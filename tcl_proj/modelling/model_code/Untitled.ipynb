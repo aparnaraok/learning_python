{
 "cells": [
  {
   "cell_type": "code",
   "execution_count": 3,
   "metadata": {},
   "outputs": [
    {
     "name": "stdout",
     "output_type": "stream",
     "text": [
      "[1] \"C:\\\\Users\\\\IT\\\\PycharmProjects\\\\my_project\\\\modelling\\\\model_code\"\n",
      "\n"
     ]
    },
    {
     "data": {
      "text/html": [
       "\n",
       "    <span>StrVector with 1 elements.</span>\n",
       "    <table>\n",
       "      <tbody>\n",
       "      <tr>\n",
       "      \n",
       "      <td>\n",
       "        'C:\\\\Users\\\\IT\\\\PycharmProjects\\\\my_project\\\\mode...\n",
       "      </td>\n",
       "      \n",
       "      </tr>\n",
       "      </tbody>\n",
       "    </table>\n",
       "    "
      ],
      "text/plain": [
       "R object with classes: ('character',) mapped to:\n",
       "<StrVector - Python:0x000002921D051288 / R:0x0000029230B6FE70>\n",
       "['C:\\\\Users\\\\IT\\\\PycharmProjects\\\\my_project\\\\mode...]"
      ]
     },
     "execution_count": 3,
     "metadata": {},
     "output_type": "execute_result"
    }
   ],
   "source": [
    "import os\n",
    "import rpy2.robjects as robjects\n",
    "# from flask import Flask, abort, jsonify, request\n",
    "from rpy2.robjects.packages import importr\n",
    "from rpy2.robjects import pandas2ri\n",
    "pandas2ri.activate()\n",
    "\n",
    "\n",
    "# path_py = os.path.dirname(os.path.abspath(__file__))\n",
    "path_py = os.getcwd()\n",
    "\n",
    "def train_model():\n",
    "    '''Trains the model\n",
    "    '''\n",
    "    robjects.r.source(\"train_model.R\")\n",
    "    r_output = robjects.r.sample_func(path_py)\n",
    "    # py_output_df = pandas2ri.ri2py(r_output_df)\n",
    "    # output_dict = py_output_df.to_dict(orient='records')\n",
    "    # return jsonify(results=output_dict)\n",
    "    print(r_output)\n",
    "    return r_output\n",
    "\n",
    "train_model()"
   ]
  },
  {
   "cell_type": "code",
   "execution_count": null,
   "metadata": {},
   "outputs": [],
   "source": []
  }
 ],
 "metadata": {
  "kernelspec": {
   "display_name": "Python 3",
   "language": "python",
   "name": "python3"
  },
  "language_info": {
   "codemirror_mode": {
    "name": "ipython",
    "version": 3
   },
   "file_extension": ".py",
   "mimetype": "text/x-python",
   "name": "python",
   "nbconvert_exporter": "python",
   "pygments_lexer": "ipython3",
   "version": "3.7.1"
  }
 },
 "nbformat": 4,
 "nbformat_minor": 2
}
